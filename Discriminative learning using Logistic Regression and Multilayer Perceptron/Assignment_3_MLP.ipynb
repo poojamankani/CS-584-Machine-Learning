{
 "cells": [
  {
   "cell_type": "code",
   "execution_count": 6,
   "metadata": {
    "collapsed": false
   },
   "outputs": [],
   "source": [
    "import numpy as np\n",
    "import math\n",
    "from sklearn.datasets import fetch_mldata\n",
    "from sklearn.cross_validation import KFold, StratifiedKFold\n",
    "from sklearn.preprocessing import PolynomialFeatures\n",
    "from sklearn.linear_model import LinearRegression\n",
    "import matplotlib.pyplot as plt\n",
    "%matplotlib inline\n",
    "import math\n",
    "from sklearn.metrics import accuracy_score, average_precision_score, precision_score,recall_score,roc_curve,precision_recall_curve, auc,f1_score, confusion_matrix\n",
    "import operator\n",
    "from scipy.optimize import fmin_bfgs\n",
    "from sklearn.base import clone\n",
    "from sklearn.cross_validation import train_test_split\n",
    "from sklearn.datasets import fetch_mldata\n",
    "from sklearn.metrics import classification_report"
   ]
  },
  {
   "cell_type": "code",
   "execution_count": 7,
   "metadata": {
    "collapsed": false
   },
   "outputs": [],
   "source": [
    "from sklearn.datasets import fetch_mldata\n",
    "import numpy as np\n",
    "import os\n",
    "from pylab import *\n",
    "mnist = fetch_mldata('MNIST original')\n",
    "mnist.data.shape\n",
    "mnist.target.shape\n",
    "np.unique(mnist.target)\n",
    "X_m, y_m = mnist.data / 255., mnist.target\n",
    "X_train, X_test = X_m[:1000], X_m[1000:]\n",
    "y_train, y_test = y_m[:1000], y_m[1000:]\n",
    "X_train.shape\n",
    "y_train.shape\n",
    "size=len(y_train)"
   ]
  },
  {
   "cell_type": "code",
   "execution_count": 8,
   "metadata": {
    "collapsed": false
   },
   "outputs": [
    {
     "name": "stdout",
     "output_type": "stream",
     "text": [
      "(69000L, 784L)\n",
      "(69000L,)\n",
      "set([0, 1, 2, 3, 4, 5, 6, 7, 8, 9])\n"
     ]
    }
   ],
   "source": [
    "X_train_m= X_test\n",
    "Y_train_m= y_test.astype(np.int);\n",
    "X_test_m=X_train\n",
    "Y_test_m=y_train.astype(np.int);\n",
    "print X_train_m.shape\n",
    "print Y_train_m.shape\n",
    "print set(Y_train_m)"
   ]
  },
  {
   "cell_type": "code",
   "execution_count": 9,
   "metadata": {
    "collapsed": false
   },
   "outputs": [],
   "source": [
    "def read_input(filename):\n",
    "    input_data=[];\n",
    "    f=open(filename);\n",
    "    #f.readline();\n",
    "    #f.readline();\n",
    "    for line in f:\n",
    "        input_data.append(line.rstrip('\\n').split(','));\n",
    "    return input_data;\n",
    "\n",
    "def create_feature_matrix(input_data):\n",
    "    x_list=[a[0:len(input_data[0])-1] for a in input_data];\n",
    "    x=np.array([a[0:len(input_data[0])-1] for a in input_data]);\n",
    "    #x=np.transpose(x)\n",
    "    x= x.astype(np.float);\n",
    "    return x\n",
    "\n",
    "def create_y_matrix(input_data):\n",
    "    y_list=[a[len(input_data[0])-1] for a in input_data];\n",
    "    y_list_1=[];\n",
    "    for i in y_list:\n",
    "        if(i=='Iris-setosa'):\n",
    "            y_list_1.append(0);\n",
    "        elif(i=='Iris-versicolor'):\n",
    "            y_list_1.append(1);\n",
    "        elif(i=='Iris-virginica'):\n",
    "            y_list_1.append(2);\n",
    "        \n",
    "            \n",
    "    y=np.array(y_list_1);\n",
    "    #y=np.transpose(y)\n",
    "    y= y.astype(np.int);\n",
    "    return y"
   ]
  },
  {
   "cell_type": "code",
   "execution_count": 10,
   "metadata": {
    "collapsed": false
   },
   "outputs": [
    {
     "name": "stdout",
     "output_type": "stream",
     "text": [
      "(150L, 4L)\n",
      "(150L,)\n"
     ]
    }
   ],
   "source": [
    "#input_data=read_input('winequality-red.csv')\n",
    "input_data=read_input('iris.dat')\n",
    "X=create_feature_matrix(input_data)\n",
    "Y=create_y_matrix(input_data)\n",
    "print X.shape\n",
    "print Y.shape"
   ]
  },
  {
   "cell_type": "code",
   "execution_count": 11,
   "metadata": {
    "collapsed": false
   },
   "outputs": [],
   "source": [
    "def loss(x,y,model):\n",
    "    w1,b1,w2,b2=model['w1'],model['b1'],  model['w2'], model['b2']\n",
    "    fp1=np.dot(x,w1 )+b1;\n",
    "    a1=np.tanh(fp1)\n",
    "    fp2=np.dot(a1, w2)+b2;\n",
    "    exp=np.exp(fp2)\n",
    "    p=exp/np.sum(exp, axis=1, keepdims=True)\n",
    "    l_theta=-np.log(p[range(x.shape[0]),y])\n",
    "    data=np.sum(l_theta)\n",
    "    data = data+0.01/2 * (np.sum(np.square(w1)) + np.sum(np.square(w2)))\n",
    "    return 1./x.shape[0]*data"
   ]
  },
  {
   "cell_type": "code",
   "execution_count": 12,
   "metadata": {
    "collapsed": true
   },
   "outputs": [],
   "source": [
    "def predict(model,x):\n",
    "    w1,b1,w2,b2=model['w1'],model['b1'],  model['w2'], model['b2']\n",
    "    fp1=np.dot(x,w1 )+b1;\n",
    "    a1=np.tanh(fp1)\n",
    "    fp2=np.dot(a1, w2)+b2;\n",
    "    exp=np.exp(fp2)\n",
    "    p=exp/np.sum(exp, axis=1, keepdims=True)\n",
    "    #print p\n",
    "    return np.argmax(p, axis=1)"
   ]
  },
  {
   "cell_type": "code",
   "execution_count": 13,
   "metadata": {
    "collapsed": false
   },
   "outputs": [],
   "source": [
    "def network(x,y,hidden_layer, passes, verbose):\n",
    "    w1= np.random.randn(x.shape[1], hidden_layer)/np.sqrt(x.shape[1]);\n",
    "    w2= np.random.randn(hidden_layer,len(set(y)))/np.sqrt(hidden_layer);\n",
    "    b1 = np.zeros((1, hidden_layer))\n",
    "    b2 = np.zeros((1, len(set(y))))\n",
    "    \n",
    "    model={}\n",
    "    for i in xrange(0, passes):\n",
    "        fp1=np.dot(x, w1);\n",
    "        a1=np.tanh(fp1);\n",
    "        fp2=np.dot(a1, w2)\n",
    "        exp=np.exp(fp2)\n",
    "        #print exp.shape\n",
    "        p=exp/np.sum(exp, axis=1, keepdims=True)\n",
    "        d3=p;\n",
    "        #print d3.shape\n",
    "        d3[range(x.shape[0]), y]=d3[range(x.shape[0]), y]-1;\n",
    "        dw1=np.dot(np.transpose(a1), d3)\n",
    "        db1=np.sum(d3, axis=0, keepdims=True)\n",
    "        \n",
    "        d2=np.dot(d3, np.transpose(w2))*(1-np.power(a1,2));\n",
    "        dw11=np.dot(np.transpose(x), d2);\n",
    "        db11=np.sum(d2, axis=0)\n",
    "        dw11 += 0.1 * w1\n",
    "        dw1 += 0.1 * w2\n",
    "        w1=w1-0.01*dw11;\n",
    "        w2=w2-0.01*dw1;\n",
    "        b1=b1-0.01*db11;\n",
    "        b2=b2-0.01*db1;\n",
    "        model={'w1':w1, 'b1': b1, 'w2': w2, 'b2':b2}\n",
    "        if(verbose == True and i%1000 ==0):\n",
    "            print \"Loss: %f \" %loss(x,y,model);\n",
    "        return model;\n",
    "        \n",
    "    "
   ]
  },
  {
   "cell_type": "code",
   "execution_count": 46,
   "metadata": {
    "collapsed": true
   },
   "outputs": [],
   "source": [
    "def do_cross_validation(X, y,  classarray,n_folds, verbose=False):\n",
    "    \n",
    "    accuracies = []\n",
    "    precisions =[]\n",
    "    recalls=[]\n",
    "    f1_scores=[]\n",
    "    y_p=[]\n",
    "    i=1;\n",
    "    X1=X;\n",
    "    Y1=y;    \n",
    "    #Y1 = np.zeros((X1.shape[0], len(classarray)), dtype=np.float64)\n",
    "    #for i, a in enumerate(classarray):\n",
    "    #    Y1[y==a, i]=1;\n",
    "    cv = KFold(len(Y1), n_folds, shuffle=True, random_state=5)\n",
    "    #cv = StratifiedKFold(Y1, n_folds, shuffle=True, random_state=5)\n",
    "    for train_idx, test_idx in cv:\n",
    "        #theta=calc_theta(X1[train_idx],Y1[train_idx]);\n",
    "        #theta=theta[0].reshape((X1[train_idx].shape[1], Y1[train_idx].shape[1]))\n",
    "        #print theta\n",
    "        #predicted_y=predict(X1[test_idx], Y1[test_idx], theta, classarray);\n",
    "        #print Y1[test_idx];\n",
    "        #print predicted_y;\n",
    "        model=network(X[train_idx], Y1[train_idx], 4, 200000000, True)\n",
    "        predicted_y=predict(model,X1[test_idx])\n",
    "        #print predicted_y\n",
    "        #print Y1[test_idx]\n",
    "        #print accuracy_score(Y1[test_idx], predicted_y)\n",
    "        acc = accuracy_score(Y1[test_idx], predicted_y)\n",
    "        c_matrix= confusion_matrix(Y1[test_idx], predicted_y)\n",
    "        precision=precision_score(Y1[test_idx], predicted_y, average=\"weighted\")\n",
    "        recall=recall_score(Y1[test_idx], predicted_y, average=\"weighted\")\n",
    "        f_score=f1_score(Y1[test_idx], predicted_y, average=\"weighted\")\n",
    "        if(verbose == True):\n",
    "            print('fold %d accuracy=%.4f, precision=%.4f, recall=%.4f, F-measure%.4f, confusion matrix=' % (i, acc, precision, recall, f_score));\n",
    "            print c_matrix\n",
    "        i=i+1;\n",
    "        accuracies.append(acc)\n",
    "        precisions.append(precision)\n",
    "        recalls.append(recall)\n",
    "        f1_scores.append(f_score)\n",
    "        prredicted_y=[]\n",
    "    avg=np.max(accuracies);\n",
    "    avg_precision=np.max(precisions)\n",
    "    avg_recall=np.max(recalls)\n",
    "    avg_f1_score=np.max(f1_scores)\n",
    "    return avg, avg_precision, avg_recall, avg_f1_score;"
   ]
  },
  {
   "cell_type": "code",
   "execution_count": 98,
   "metadata": {
    "collapsed": false
   },
   "outputs": [
    {
     "name": "stdout",
     "output_type": "stream",
     "text": [
      "Loss: 1.561323 \n",
      "fold 1 accuracy=0.3333, precision=0.1111, recall=0.3333, F-measure0.1667, confusion matrix=\n",
      "[[0 4 0]\n",
      " [0 5 0]\n",
      " [0 6 0]]\n",
      "Loss: 1.308266 \n",
      "fold 2 accuracy=0.2667, precision=0.0711, recall=0.2667, F-measure0.1123, confusion matrix=\n",
      "[[4 0 0]\n",
      " [6 0 0]\n",
      " [5 0 0]]\n",
      "Loss: 1.183273 \n",
      "fold 3 accuracy=0.4667, precision=0.2178, recall=0.4667, F-measure0.2970, confusion matrix=\n",
      "[[7 0 0]\n",
      " [5 0 0]\n",
      " [3 0 0]]\n",
      "Loss: 1.389515 \n",
      "fold 4 accuracy=0.3333, precision=0.1111, recall=0.3333, F-measure0.1667, confusion matrix=\n",
      "[[0 5 0]\n",
      " [0 5 0]\n",
      " [0 5 0]]\n",
      "Loss: 1.340252 \n",
      "fold 5 accuracy=0.3333, precision=0.1111, recall=0.3333, F-measure0.1667, confusion matrix=\n",
      "[[0 0 2]\n",
      " [0 0 8]\n",
      " [0 0 5]]\n",
      "Loss: 1.117087 \n",
      "fold 6 accuracy=0.2667, precision=0.0711, recall=0.2667, F-measure0.1123, confusion matrix=\n",
      "[[0 7 0]\n",
      " [0 4 0]\n",
      " [0 4 0]]\n",
      "Loss: 1.184173 \n",
      "fold 7 accuracy=0.2667, precision=0.0711, recall=0.2667, F-measure0.1123, confusion matrix=\n",
      "[[0 0 5]\n",
      " [0 0 6]\n",
      " [0 0 4]]\n",
      "Loss: 0.954020 \n",
      "fold 8 accuracy=0.3333, precision=0.1111, recall=0.3333, F-measure0.1667, confusion matrix=\n",
      "[[0 0 6]\n",
      " [0 0 4]\n",
      " [0 0 5]]\n",
      "Loss: 1.061479 \n",
      "fold 9 accuracy=0.8667, precision=0.7600, recall=0.8667, F-measure0.8074, confusion matrix=\n",
      "[[5 0 0]\n",
      " [0 0 2]\n",
      " [0 0 8]]\n",
      "Loss: 1.591764 \n",
      "fold 10 accuracy=0.3333, precision=0.1111, recall=0.3333, F-measure0.1667, confusion matrix=\n",
      "[[5 0 0]\n",
      " [5 0 0]\n",
      " [5 0 0]]\n"
     ]
    },
    {
     "data": {
      "text/plain": [
       "(0.8666666666666667,\n",
       " 0.76000000000000001,\n",
       " 0.8666666666666667,\n",
       " 0.80740740740740735)"
      ]
     },
     "execution_count": 98,
     "metadata": {},
     "output_type": "execute_result"
    }
   ],
   "source": [
    "do_cross_validation(X, Y,[1,2,3],10, verbose=True)"
   ]
  },
  {
   "cell_type": "code",
   "execution_count": 74,
   "metadata": {
    "collapsed": false
   },
   "outputs": [
    {
     "name": "stdout",
     "output_type": "stream",
     "text": [
      "Loss: 0.992423 \n",
      "Accuracy: 0.666667\n",
      "Precision: 0.495148\n",
      "Recall: 0.666667\n",
      "F1 Scpre: 0.553747\n",
      "Confusion Matrix:\n",
      "[[50  0  0]\n",
      " [ 1  0 49]\n",
      " [ 0  0 50]]\n"
     ]
    }
   ],
   "source": [
    "model=network(X, Y, 4, 500000000, True)\n",
    "predicted_y= predict(model,X)\n",
    "print \"Accuracy: %f\" %accuracy_score(Y, predicted_y)\n",
    "print \"Precision: %f\" %precision_score(Y, predicted_y, average=\"weighted\")\n",
    "print \"Recall: %f\" %recall_score(Y, predicted_y, average=\"weighted\")\n",
    "print \"F1 Scpre: %f\" %f1_score(Y, predicted_y, average=\"weighted\")\n",
    "print \"Confusion Matrix:\"\n",
    "print confusion_matrix(Y, predicted_y)"
   ]
  },
  {
   "cell_type": "code",
   "execution_count": 100,
   "metadata": {
    "collapsed": false
   },
   "outputs": [
    {
     "name": "stdout",
     "output_type": "stream",
     "text": [
      "Loss: 19.348975 \n",
      "fold 1 accuracy=0.0970, precision=0.0095, recall=0.0970, F-measure0.0173, confusion matrix=\n",
      "[[  0  10   0   0   0   0   0   0   0 583]\n",
      " [  0   0   0   0   0   0   0   0   0 807]\n",
      " [  0   0   0   0   0   0   0   0   0 719]\n",
      " [  0   0   0   0   0   0   0   0   0 701]\n",
      " [  0  23   0   0   0   0   0   0   0 694]\n",
      " [  0   2   0   0   0   0   0   0   0 649]\n",
      " [  0   5   0   0   0   0   0   0   0 642]\n",
      " [  0   0   0   0   0   0   0   0   0 721]\n",
      " [  0   1   0   0   0   0   0   0   0 671]\n",
      " [  0   3   0   0   0   0   0   0   0 669]]\n",
      "Loss: 26.694465 \n",
      "fold 2 accuracy=0.0212, precision=0.0141, recall=0.0212, F-measure0.0083, confusion matrix=\n",
      "[[  0   8   3   0   2   0 436 159   0   0]\n",
      " [  0   0   0   0  11   0 610 143   0   0]\n",
      " [  0   6   0   0   4   0 276 433   0   0]\n",
      " [  0   2   0   0   0   0 623  60   0   0]\n",
      " [  0   0 118   0   4   0   1 553   0   0]\n",
      " [  0   1   0   0   6   0 272 387   0   0]\n",
      " [  0   1   4   0   1   0   4 682   0   0]\n",
      " [  0 110  45   0   4   0 461 138   0   0]\n",
      " [  0   0   0   0   6   0 196 413   0   0]\n",
      " [  0   1   6   0   2   0  78 630   0   0]]\n",
      "Loss: 36.321742 \n",
      "fold 3 accuracy=0.1165, precision=0.0136, recall=0.1165, F-measure0.0243, confusion matrix=\n",
      "[[  0 592   0   0   0   0   0   0   0   0]\n",
      " [  0 804   0   0   0   0   0   0   0   0]\n",
      " [  0 688   0   0   0   0   0   0   0   0]\n",
      " [  0 703   0   0   0   0   0   0   0   0]\n",
      " [  0 658   0   0   0   0   0   0   0   0]\n",
      " [  0 630   0   0   0   0   0   0   0   0]\n",
      " [  0 712   0   0   0   0   0   0   0   0]\n",
      " [  0 689   0   0   0   0   0   0   0   0]\n",
      " [  0 705   0   0   0   0   0   0   0   0]\n",
      " [  0 719   0   0   0   0   0   0   0   0]]\n",
      "Loss: 33.840785 \n",
      "fold 4 accuracy=0.0662, precision=0.0244, recall=0.0662, F-measure0.0354, confusion matrix=\n",
      "[[  0  13 268   0 255   0  10   0  51   0]\n",
      " [  0   4 321   0   0   0 473   0   0   0]\n",
      " [  0  41 275   0  94   0 277   0   0   0]\n",
      " [  0  13 603   0   5   0  96   0   0   0]\n",
      " [  0 653   6   0   8   0  15   0   0   0]\n",
      " [  0  54 340   0  19   0 189   0   1   0]\n",
      " [  0 157  93   0 306   0 170   0   0   0]\n",
      " [  0 645  24   6  17   0  40   0   1   0]\n",
      " [  0  65 151   0   2   0 478   0   0   0]\n",
      " [  0 594  16   0  17   0  33   0   1   0]]\n",
      "Loss: 40.886487 \n",
      "fold 5 accuracy=0.0583, precision=0.0127, recall=0.0583, F-measure0.0190, confusion matrix=\n",
      "[[  0 481 127   0   1   0   0   0   0   8]\n",
      " [  0 346  14   0   0   0   0 397   0   0]\n",
      " [  0 623  56   0   0   0   0  37   0   1]\n",
      " [  0 604 106   0  10   0   0   7   0  16]\n",
      " [  0 656   8   0   0   0   0   0   0   0]\n",
      " [  0 571  64   0   0   0   0   5   0   0]\n",
      " [  0 655   1   0   0   0   0   2   0   0]\n",
      " [  0 533 150   0   0   0   0   0   0   0]\n",
      " [  0 253 473   0   0   0   0   1   0   0]\n",
      " [  0 659  35   0   0   0   0   0   0   0]]\n",
      "Loss: 27.405141 \n",
      "fold 6 accuracy=0.1039, precision=0.0113, recall=0.1039, F-measure0.0205, confusion matrix=\n",
      "[[  0 599   5   0   0   0   0   0   0   0]\n",
      " [  0 717   0  27   0   0   0   0   0   0]\n",
      " [  0 698   0   1   0   0   0   0   2   0]\n",
      " [  0 683   0   0   0   0   0   0   0   0]\n",
      " [  0 688   0   0   0   0   0   0   1   0]\n",
      " [  0 624   0   0   0   0   0   0   0   0]\n",
      " [  0 684   0   0   0   0   0   0  29   0]\n",
      " [  0 730  20   0   0   0   0   0   1   0]\n",
      " [  0 668   0   1   0   0   0   0   0   0]\n",
      " [  0 722   0   0   0   0   0   0   0   0]]\n",
      "Loss: 29.228846 \n",
      "fold 7 accuracy=0.0157, precision=0.0055, recall=0.0157, F-measure0.0080, confusion matrix=\n",
      "[[  0   0   0   0  32   0   0   0   0 556]\n",
      " [  0  69   0   0 219   0 542   0   0   6]\n",
      " [  0  60   0   0 318   0   7   0   0 328]\n",
      " [  0  55   0   0 530   0  84   0   0  59]\n",
      " [  0 602   0   0   0   0   2   0   0  69]\n",
      " [  0 111   0   0 193   0   2   0   0 299]\n",
      " [  0  13   0   0  25   0   2   0   0 642]\n",
      " [  0 635   0   0   3   0  14   0   0  58]\n",
      " [  0 208   0   0 216   0  89   0   0 139]\n",
      " [  0 670   0   0   3   0   3   0   0  37]]\n",
      "Loss: 16.587035 \n",
      "fold 8 accuracy=0.2123, precision=0.1364, recall=0.2123, F-measure0.1453, confusion matrix=\n",
      "[[  0   6   0  47  53   0 432  43   0   0]\n",
      " [  0 591   0  91 107   0   2   2   0   0]\n",
      " [  0  61   0 134 145   0 362   6   0   0]\n",
      " [  0   2   0  35 605   0  49   3   0   0]\n",
      " [  0   1   0  59 621   0  16   0   0   0]\n",
      " [  0  15   0  99 408   0 109   0   0   0]\n",
      " [  0   6   0 411  54   0 217   2   0   0]\n",
      " [  0   3   0   2 728   0   2   1   0   0]\n",
      " [  0   3   0 168 328   0 189   0   0   0]\n",
      " [  0   1   0  10 665   0   6   0   0   0]]\n",
      "Loss: 32.599023 \n",
      "fold 9 accuracy=0.1233, precision=0.0357, recall=0.1233, F-measure0.0545, confusion matrix=\n",
      "[[  0   0   0 162   0   0   0  37   0 387]\n",
      " [  0   0   0  21   0   0 759   0   0   0]\n",
      " [  0   0   0 282   0   0 244 118   0  40]\n",
      " [  0   1   0 303   0   0 191 198   0  44]\n",
      " [  0   0   0 571   0   0  43   2   0  85]\n",
      " [  0   0   0 367   0   0 103 117   0  57]\n",
      " [  0   0   0  70   0   0 539  40   0  12]\n",
      " [  0   0   0 739   0   0   8   0   0   3]\n",
      " [  0   1   0 502   0   0 125  33   0  26]\n",
      " [  0   0   0 649   0   0  10   2   0   9]]\n",
      "Loss: 29.577575 \n",
      "fold 10 accuracy=0.0229, precision=0.0045, recall=0.0229, F-measure0.0074, confusion matrix=\n",
      "[[  0   0   0 536   1   0   0   0   0   0]\n",
      " [  0   0   0  42 752   0   0   0   0   0]\n",
      " [  0   1   0 551 102   0   0   0   0   0]\n",
      " [  0   1   0 124 625   0   0   0   0   0]\n",
      " [  0   6   0 619  34   0   0   8   0   0]\n",
      " [  0   0   0 537  82   0   0   0   0   0]\n",
      " [  0   0   0 691   4   0   0   0   0   0]\n",
      " [  0  85   0 572 105   0   0   0   0   0]\n",
      " [  0   0   0 527 187   0   0   0   0   0]\n",
      " [  0  33   0 551 121   0   0   3   0   0]]\n"
     ]
    },
    {
     "data": {
      "text/plain": [
       "(0.21231884057971015,\n",
       " 0.13635509293144182,\n",
       " 0.21231884057971015,\n",
       " 0.14532333917348036)"
      ]
     },
     "execution_count": 100,
     "metadata": {},
     "output_type": "execute_result"
    }
   ],
   "source": [
    "do_cross_validation(X_train_m, Y_train_m,[0,1,2,3,4,5,6,7,8,9],10, verbose=True)"
   ]
  },
  {
   "cell_type": "code",
   "execution_count": 161,
   "metadata": {
    "collapsed": false
   },
   "outputs": [
    {
     "name": "stdout",
     "output_type": "stream",
     "text": [
      "Loss: 33.666639 \n",
      "Accuracy: 0.177203\n",
      "Precision: 0.141450\n",
      "Recall: 0.177203\n",
      "F1 Scpre: 0.109950\n",
      "Confusion Matrix:\n",
      "[[  11    5    0 5399    0  488    0    0    0    0]\n",
      " [   3 6758    0 1110    0    6    0    0    0    0]\n",
      " [  61  504    0 6227    0  198    0    0    0    0]\n",
      " [  45 1733    0 5252    0  110    0    1    0    0]\n",
      " [2593   33    0  662    0 3536    0    0    0    0]\n",
      " [ 138  415    0 5555    0  205    0    0    0    0]\n",
      " [  25   48    0 6346    0  457    0    0    0    0]\n",
      " [6063  324    0  295    0  610    0    1    0    0]\n",
      " [  28  687    0 5793    0  317    0    0    0    0]\n",
      " [1732  192    0  601    0 4433    0    0    0    0]]\n"
     ]
    }
   ],
   "source": [
    "model=network(X_train_m, Y_train_m, 4, 500000000, True)\n",
    "predicted_y= predict(model,X_train_m)\n",
    "print \"Accuracy: %f\" %accuracy_score(Y_train_m, predicted_y)\n",
    "print \"Precision: %f\" %precision_score(Y_train_m, predicted_y, average=\"weighted\")\n",
    "print \"Recall: %f\" %recall_score(Y_train_m, predicted_y, average=\"weighted\")\n",
    "print \"F1 Scpre: %f\" %f1_score(Y_train_m, predicted_y, average=\"weighted\")\n",
    "print \"Confusion Matrix:\"\n",
    "print confusion_matrix(Y_train_m, predicted_y)"
   ]
  },
  {
   "cell_type": "code",
   "execution_count": null,
   "metadata": {
    "collapsed": true
   },
   "outputs": [],
   "source": []
  }
 ],
 "metadata": {
  "kernelspec": {
   "display_name": "Python 2",
   "language": "python",
   "name": "python2"
  },
  "language_info": {
   "codemirror_mode": {
    "name": "ipython",
    "version": 2
   },
   "file_extension": ".py",
   "mimetype": "text/x-python",
   "name": "python",
   "nbconvert_exporter": "python",
   "pygments_lexer": "ipython2",
   "version": "2.7.10"
  }
 },
 "nbformat": 4,
 "nbformat_minor": 0
}
