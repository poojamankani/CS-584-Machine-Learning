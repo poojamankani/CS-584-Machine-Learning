{
 "cells": [
  {
   "cell_type": "code",
   "execution_count": 6,
   "metadata": {
    "collapsed": false
   },
   "outputs": [
    {
     "name": "stdout",
     "output_type": "stream",
     "text": [
      "http://api.wunderground.com/api/72f95b56f4b84054/history_20160201/q/IL/Chicago.json\n",
      "http://api.wunderground.com/api/72f95b56f4b84054/history_20160202/q/IL/Chicago.json\n",
      "http://api.wunderground.com/api/72f95b56f4b84054/history_20160203/q/IL/Chicago.json\n",
      "http://api.wunderground.com/api/72f95b56f4b84054/history_20160204/q/IL/Chicago.json\n",
      "http://api.wunderground.com/api/72f95b56f4b84054/history_20160205/q/IL/Chicago.json\n",
      "http://api.wunderground.com/api/72f95b56f4b84054/history_20160206/q/IL/Chicago.json\n",
      "http://api.wunderground.com/api/72f95b56f4b84054/history_20160207/q/IL/Chicago.json\n",
      "http://api.wunderground.com/api/72f95b56f4b84054/history_20160208/q/IL/Chicago.json\n",
      "http://api.wunderground.com/api/72f95b56f4b84054/history_20160209/q/IL/Chicago.json\n",
      "http://api.wunderground.com/api/72f95b56f4b84054/history_20160210/q/IL/Chicago.json\n",
      "http://api.wunderground.com/api/72f95b56f4b84054/history_20160211/q/IL/Chicago.json\n",
      "http://api.wunderground.com/api/72f95b56f4b84054/history_20160212/q/IL/Chicago.json\n",
      "http://api.wunderground.com/api/72f95b56f4b84054/history_20160213/q/IL/Chicago.json\n",
      "http://api.wunderground.com/api/72f95b56f4b84054/history_20160214/q/IL/Chicago.json\n",
      "http://api.wunderground.com/api/72f95b56f4b84054/history_20160215/q/IL/Chicago.json\n",
      "http://api.wunderground.com/api/72f95b56f4b84054/history_20160216/q/IL/Chicago.json\n",
      "http://api.wunderground.com/api/72f95b56f4b84054/history_20160217/q/IL/Chicago.json\n",
      "http://api.wunderground.com/api/72f95b56f4b84054/history_20160218/q/IL/Chicago.json\n",
      "http://api.wunderground.com/api/72f95b56f4b84054/history_20160219/q/IL/Chicago.json\n",
      "http://api.wunderground.com/api/72f95b56f4b84054/history_20160220/q/IL/Chicago.json\n",
      "http://api.wunderground.com/api/72f95b56f4b84054/history_20160221/q/IL/Chicago.json\n",
      "http://api.wunderground.com/api/72f95b56f4b84054/history_20160222/q/IL/Chicago.json\n",
      "http://api.wunderground.com/api/72f95b56f4b84054/history_20160223/q/IL/Chicago.json\n",
      "http://api.wunderground.com/api/72f95b56f4b84054/history_20160224/q/IL/Chicago.json\n",
      "http://api.wunderground.com/api/72f95b56f4b84054/history_20160225/q/IL/Chicago.json\n",
      "http://api.wunderground.com/api/72f95b56f4b84054/history_20160226/q/IL/Chicago.json\n",
      "http://api.wunderground.com/api/72f95b56f4b84054/history_20160227/q/IL/Chicago.json\n",
      "http://api.wunderground.com/api/72f95b56f4b84054/history_20160228/q/IL/Chicago.json\n",
      "http://api.wunderground.com/api/72f95b56f4b84054/history_20160229/q/IL/Chicago.json\n"
     ]
    }
   ],
   "source": [
    "import urllib2\n",
    "import json\n",
    "import csv\n",
    "\n",
    "for day_count in range(1,30):\n",
    "    url = 'http://api.wunderground.com/api/72f95b56f4b84054/history_201602' + str(day_count).zfill(2) + '/q/IL/Chicago.json'\n",
    "    print url\n",
    "    f = urllib2.urlopen(url)\n",
    "    json_string = f.read()\n",
    "    parsed_json = json.loads(json_string)\n",
    "\n",
    "    with open('weather_data.csv', 'a') as csv_file: \n",
    "        csv_writer = csv.writer(csv_file,delimiter=\",\")\n",
    "        previous_hour = -1\n",
    "        i=0\n",
    "        j=0\n",
    "        while(i<24):\n",
    "            year = parsed_json['history']['observations'][j]['date']['year']\n",
    "            month = parsed_json['history']['observations'][j]['date']['mon']\n",
    "            day = parsed_json['history']['observations'][j]['date']['mday']\n",
    "            hour = parsed_json['history']['observations'][j]['date']['hour']\n",
    "            temp = parsed_json['history']['observations'][j]['tempi']\n",
    "            hum = parsed_json['history']['observations'][j]['hum']\n",
    "            windchill = parsed_json['history']['observations'][j]['windchilli']\n",
    "            preci = parsed_json['history']['observations'][j]['precipi']\n",
    "            wind_speed = parsed_json['history']['observations'][j]['wspdi']\n",
    "            if(hour != previous_hour):\n",
    "                csv_writer.writerow([year,month,day,hour,temp,windchill,hum,preci,wind_speed])\n",
    "                i+=1\n",
    "            j+=1    \n",
    "            previous_hour = hour    \n",
    "f.close()"
   ]
  },
  {
   "cell_type": "code",
   "execution_count": null,
   "metadata": {
    "collapsed": true
   },
   "outputs": [],
   "source": []
  },
  {
   "cell_type": "code",
   "execution_count": null,
   "metadata": {
    "collapsed": true
   },
   "outputs": [],
   "source": []
  }
 ],
 "metadata": {
  "kernelspec": {
   "display_name": "Python 2",
   "language": "python",
   "name": "python2"
  },
  "language_info": {
   "codemirror_mode": {
    "name": "ipython",
    "version": 2
   },
   "file_extension": ".py",
   "mimetype": "text/x-python",
   "name": "python",
   "nbconvert_exporter": "python",
   "pygments_lexer": "ipython2",
   "version": "2.7.11"
  }
 },
 "nbformat": 4,
 "nbformat_minor": 0
}
