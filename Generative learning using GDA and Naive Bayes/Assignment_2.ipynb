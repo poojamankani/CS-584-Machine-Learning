{
 "cells": [
  {
   "cell_type": "code",
   "execution_count": 2,
   "metadata": {
    "collapsed": true
   },
   "outputs": [],
   "source": [
    "import numpy as np\n",
    "import math\n",
    "from sklearn.cross_validation import KFold\n",
    "from sklearn.preprocessing import PolynomialFeatures\n",
    "from sklearn.linear_model import LinearRegression\n",
    "import matplotlib.pyplot as plt\n",
    "%matplotlib inline\n",
    "from sklearn.metrics import mean_squared_error\n",
    "from urllib import urlretrieve\n",
    "import tarfile\n",
    "import os\n",
    "import io\n",
    "import re\n",
    "from sklearn.feature_extraction.text import CountVectorizer\n",
    "import math\n",
    "from sklearn.metrics import accuracy_score, average_precision_score, precision_score,recall_score,roc_curve,precision_recall_curve, auc,f1_score, confusion_matrix\n",
    "import operator"
   ]
  },
  {
   "cell_type": "code",
   "execution_count": 3,
   "metadata": {
    "collapsed": false
   },
   "outputs": [],
   "source": [
    "def read_input(filename):\n",
    "    input_data=[];\n",
    "    f=open(filename);\n",
    "    #f.readline();\n",
    "    #f.readline();\n",
    "    for line in f:\n",
    "        input_data.append(line.rstrip('\\n').split(','));\n",
    "    return input_data;\n",
    "\n",
    "def create_feature_matrix(input_data):\n",
    "    x_list=[a[0:len(input_data[0])-1] for a in input_data];\n",
    "    x=np.matrix(x_list);\n",
    "    #x=np.transpose(x)\n",
    "    return x.astype(np.float);\n",
    "\n",
    "def create_y_matrix(input_data):\n",
    "    y_list=[a[len(input_data[0])-1] for a in input_data];\n",
    "    y_list_1=[];\n",
    "    for i in y_list:\n",
    "        if(i=='Iris-setosa'):\n",
    "            y_list_1.append(1);\n",
    "        elif(i=='Iris-versicolor'):\n",
    "            y_list_1.append(2);\n",
    "        elif(i=='Iris-virginica'):\n",
    "            y_list_1.append(3);\n",
    "        \n",
    "            \n",
    "    y=np.matrix(y_list_1);\n",
    "    y=np.transpose(y)\n",
    "    return y.astype(np.float);\n",
    "    #return y\n"
   ]
  },
  {
   "cell_type": "code",
   "execution_count": 4,
   "metadata": {
    "collapsed": false
   },
   "outputs": [],
   "source": [
    "#input_data=read_input('winequality-red.csv')\n",
    "input_data=read_input('iris.dat')\n",
    "X=create_feature_matrix(input_data)\n",
    "Y=create_y_matrix(input_data)"
   ]
  },
  {
   "cell_type": "code",
   "execution_count": 5,
   "metadata": {
    "collapsed": true
   },
   "outputs": [],
   "source": [
    "def read_dimension_class(X,Y, ndimension, classarray):\n",
    "    l=0;\n",
    "    for i in classarray:\n",
    "        for j in range(Y.shape[0]):\n",
    "            if(Y[j,0]==i or Y[j,0]==i):\n",
    "                l=l+1;\n",
    "    X1=np.zeros([l,ndimension]);\n",
    "    Y1=np.zeros([l,1]);\n",
    "    for i in classarray:\n",
    "        for j_row in range(Y.shape[0]):\n",
    "            for j_col in range(ndimension):\n",
    "                if(Y[j_row,0]==i or Y[j_row,0]==i):\n",
    "                    X1[j_row,j_col]=X[j_row,j_col];\n",
    "                    Y1[j_row,0]=Y[j_row];\n",
    "    return X1, Y1;"
   ]
  },
  {
   "cell_type": "code",
   "execution_count": 6,
   "metadata": {
    "collapsed": false
   },
   "outputs": [],
   "source": [
    "def calc_muu(X1, Y1, classarray):\n",
    "    muu_class=[];\n",
    "    muu_class_1=0;\n",
    "    mj1=0;\n",
    "    for c in classarray:\n",
    "        for i in range(Y1.shape[0]):\n",
    "            if(Y1[i,0]==c):\n",
    "                muu_class_1=muu_class_1 + X1[i];\n",
    "                mj1=mj1+1;\n",
    "        muu_class.append(muu_class_1 / mj1);\n",
    "        muu_class_1=0;\n",
    "        mj1=0;\n",
    "    return muu_class;"
   ]
  },
  {
   "cell_type": "code",
   "execution_count": 7,
   "metadata": {
    "collapsed": false
   },
   "outputs": [],
   "source": [
    "def calc_sigma(X1, Y1, muu_class, classarray):\n",
    "    sigma_class_1= np.zeros([X1.shape[1],X1.shape[1]]); \n",
    "    mj1=0;\n",
    "    sigma_class=[];\n",
    "    for c in range(len(classarray)):\n",
    "        for i in range(Y1.shape[0]):\n",
    "            if(Y1[i]==classarray[c]):\n",
    "                sigma_class_1= sigma_class_1+np.dot(np.transpose(X1[i]-np.matrix(muu_class[c])),\n",
    "                                                           (X1[i]-np.matrix(muu_class[c])));\n",
    "                mj1=mj1+1;\n",
    "        sigma_class.append(sigma_class_1 / mj1);\n",
    "        sigma_class_1=0;\n",
    "        mj1=0;\n",
    "    return sigma_class;"
   ]
  },
  {
   "cell_type": "code",
   "execution_count": 8,
   "metadata": {
    "collapsed": false
   },
   "outputs": [
    {
     "name": "stdout",
     "output_type": "stream",
     "text": [
      "1 feature 2 class\n",
      "Mean: [ 5.006] [ 5.936]\n",
      "Standard Deviation: [[ 0.121764]] [[ 0.261104]]\n",
      "n feature 2 class\n",
      "Mean: [ 5.006  3.418  1.464  0.244] [ 5.936  2.77   4.26   1.326]\n",
      "Standard Deviation: [[ 0.121764  0.098292  0.015816  0.010336]] [[ 0.261104  0.08348   0.17924   0.054664]]\n",
      "n feature n class\n",
      "Mean: [ 5.006  3.418  1.464  0.244] [ 5.936  2.77   4.26   1.326] [ 6.588  2.974  5.552  2.026]\n",
      "Standard Deviation:\n",
      "[[ 0.121764  0.098292  0.015816  0.010336]\n",
      " [ 0.098292  0.142276  0.011448  0.011208]\n",
      " [ 0.015816  0.011448  0.029504  0.005584]\n",
      " [ 0.010336  0.011208  0.005584  0.011264]]\n",
      "[[ 0.261104  0.08348   0.17924   0.054664]\n",
      " [ 0.08348   0.0965    0.081     0.04038 ]\n",
      " [ 0.17924   0.081     0.2164    0.07164 ]\n",
      " [ 0.054664  0.04038   0.07164   0.038324]]\n",
      "[[ 0.396256  0.091888  0.297224  0.048112]\n",
      " [ 0.091888  0.101924  0.069952  0.046676]\n",
      " [ 0.297224  0.069952  0.298496  0.047848]\n",
      " [ 0.048112  0.046676  0.047848  0.073924]]\n"
     ]
    }
   ],
   "source": [
    "X1, Y1= read_dimension_class(X,Y,1,[1,2])\n",
    "muu_class = calc_muu(X1, Y1,[1,2])\n",
    "print \"1 feature 2 class\"\n",
    "print \"Mean:\" , muu_class[0], muu_class[1]\n",
    "sigma_class = calc_sigma(X1, Y1,muu_class,[1,2])\n",
    "print \"Standard Deviation:\" ,sigma_class[0][0], sigma_class[1][0]\n",
    "X1, Y1= read_dimension_class(X,Y,4,[1,2])\n",
    "muu_class = calc_muu(X1, Y1,[1,2])\n",
    "print \"n feature 2 class\"\n",
    "print \"Mean:\", muu_class[0], muu_class[1]\n",
    "sigma_class = calc_sigma(X1, Y1,muu_class,[1,2])\n",
    "print \"Standard Deviation:\" , sigma_class[0][0], sigma_class[1][0]\n",
    "X1, Y1= read_dimension_class(X,Y,4,[1,2,3])\n",
    "print \"n feature n class\"\n",
    "muu_class = calc_muu(X1, Y1,[1,2,3])\n",
    "print \"Mean:\", muu_class[0], muu_class[1], muu_class[2]\n",
    "sigma_class = calc_sigma(X1, Y1,muu_class,[1,2,3])\n",
    "print \"Standard Deviation:\"\n",
    "print sigma_class[0]\n",
    "print sigma_class[1]\n",
    "print sigma_class[2]"
   ]
  },
  {
   "cell_type": "code",
   "execution_count": 9,
   "metadata": {
    "collapsed": false
   },
   "outputs": [],
   "source": [
    "def prior_probability(Y1, classarray):\n",
    "    mj=0;\n",
    "    priors=[]\n",
    "    for c in classarray:\n",
    "        for i in range(Y1.shape[0]):\n",
    "            if(Y1[i]==c):\n",
    "                   mj=mj+1;\n",
    "        priors.append(1.*(mj)/Y1.shape[0]);\n",
    "        mj=0;\n",
    "    return priors;"
   ]
  },
  {
   "cell_type": "code",
   "execution_count": 10,
   "metadata": {
    "collapsed": false
   },
   "outputs": [],
   "source": [
    "def membership(X1, sigma_class, muu_class, priors ):\n",
    "    membership=[]\n",
    "    membership_value=[]\n",
    "    for x in range(X1.shape[0]):\n",
    "        for i in range(len(muu_class)):\n",
    "            membership.append(-math.log(np.linalg.det(sigma_class[i])) \n",
    "                                              - (0.5*(np.dot(np.dot(X1[x]-np.matrix(muu_class[i]),np.linalg.inv(sigma_class[i]))\n",
    "                                                      ,np.transpose(X1[x]-np.matrix(muu_class[i])))))\n",
    "                                              + math.log(priors[i]))\n",
    "        membership_value.append(membership)\n",
    "        membership=[]\n",
    "    return membership_value"
   ]
  },
  {
   "cell_type": "code",
   "execution_count": 11,
   "metadata": {
    "collapsed": false
   },
   "outputs": [
    {
     "name": "stdout",
     "output_type": "stream",
     "text": [
      "1 Feature , 2 Class\n",
      "fold 1 accuracy=1.0000, precision=1.0000, recall=1.0000, F-measure1.0000, confusion matrix=\n",
      "[[8 0]\n",
      " [0 2]]\n",
      "fold 2 accuracy=0.8000, precision=0.7143, recall=1.0000, F-measure0.8333, confusion matrix=\n",
      "[[5 0]\n",
      " [2 3]]\n",
      "fold 3 accuracy=1.0000, precision=1.0000, recall=1.0000, F-measure1.0000, confusion matrix=\n",
      "[[4 0]\n",
      " [0 6]]\n",
      "fold 4 accuracy=1.0000, precision=1.0000, recall=1.0000, F-measure1.0000, confusion matrix=\n",
      "[[5 0]\n",
      " [0 5]]\n",
      "fold 5 accuracy=0.9000, precision=1.0000, recall=0.8333, F-measure0.9091, confusion matrix=\n",
      "[[5 1]\n",
      " [0 4]]\n",
      "fold 6 accuracy=0.7000, precision=0.5000, recall=1.0000, F-measure0.6667, confusion matrix=\n",
      "[[3 0]\n",
      " [3 4]]\n",
      "fold 7 accuracy=0.8000, precision=0.7500, recall=1.0000, F-measure0.8571, confusion matrix=\n",
      "[[6 0]\n",
      " [2 2]]\n",
      "fold 8 accuracy=0.8000, precision=0.8333, recall=0.8333, F-measure0.8333, confusion matrix=\n",
      "[[5 1]\n",
      " [1 3]]\n",
      "fold 9 accuracy=0.7000, precision=0.5000, recall=0.6667, F-measure0.5714, confusion matrix=\n",
      "[[2 1]\n",
      " [2 5]]\n",
      "fold 10 accuracy=0.9000, precision=0.8000, recall=1.0000, F-measure0.8889, confusion matrix=\n",
      "[[4 0]\n",
      " [1 5]]\n",
      "average cross validation accuracy, precision, recall, f1_score =0.8600, 0.8098, 0.9333, 0.8560\n",
      "\n",
      "n Feature , 2 Class\n",
      "fold 1 accuracy=1.0000, precision=1.0000, recall=1.0000, F-measure1.0000, confusion matrix=\n",
      "[[8 0]\n",
      " [0 2]]\n",
      "[ 0.  1.] [ 1.  1.]\n",
      "Area under the curve: 1.0000\n"
     ]
    },
    {
     "data": {
      "image/png": "[encoded data removed]",
      "text/plain": [
       "<matplotlib.figure.Figure at 0x16ef3dd8>"
      ]
     },
     "metadata": {},
     "output_type": "display_data"
    },
    {
     "name": "stdout",
     "output_type": "stream",
     "text": [
      "fold 2 accuracy=1.0000, precision=1.0000, recall=1.0000, F-measure1.0000, confusion matrix=\n",
      "[[5 0]\n",
      " [0 5]]\n",
      "[ 0.  1.] [ 1.  1.]\n",
      "Area under the curve: 1.0000\n"
     ]
    },
    {
     "data": {
      "image/png": "[encoded data removed]",
      "text/plain": [
       "<matplotlib.figure.Figure at 0x16fdc5f8>"
      ]
     },
     "metadata": {},
     "output_type": "display_data"
    },
    {
     "name": "stdout",
     "output_type": "stream",
     "text": [
      "fold 3 accuracy=1.0000, precision=1.0000, recall=1.0000, F-measure1.0000, confusion matrix=\n",
      "[[4 0]\n",
      " [0 6]]\n",
      "[ 0.  1.] [ 1.  1.]\n",
      "Area under the curve: 1.0000\n"
     ]
    },
    {
     "data": {
      "image/png": "[encoded data removed]",
      "text/plain": [
       "<matplotlib.figure.Figure at 0x17330d68>"
      ]
     },
     "metadata": {},
     "output_type": "display_data"
    },
    {
     "name": "stdout",
     "output_type": "stream",
     "text": [
      "fold 4 accuracy=1.0000, precision=1.0000, recall=1.0000, F-measure1.0000, confusion matrix=\n",
      "[[5 0]\n",
      " [0 5]]\n",
      "[ 0.  1.] [ 1.  1.]\n",
      "Area under the curve: 1.0000\n"
     ]
    },
    {
     "data": {
      "image/png": "[encoded data removed]",
      "text/plain": [
       "<matplotlib.figure.Figure at 0x175f69b0>"
      ]
     },
     "metadata": {},
     "output_type": "display_data"
    },
    {
     "name": "stdout",
     "output_type": "stream",
     "text": [
      "fold 5 accuracy=1.0000, precision=1.0000, recall=1.0000, F-measure1.0000, confusion matrix=\n",
      "[[6 0]\n",
      " [0 4]]\n",
      "[ 0.  1.] [ 1.  1.]\n",
      "Area under the curve: 1.0000\n"
     ]
    },
    {
     "data": {
      "image/png": "[encoded data removed]",
      "text/plain": [
       "<matplotlib.figure.Figure at 0x1781ee10>"
      ]
     },
     "metadata": {},
     "output_type": "display_data"
    },
    {
     "name": "stdout",
     "output_type": "stream",
     "text": [
      "fold 6 accuracy=1.0000, precision=1.0000, recall=1.0000, F-measure1.0000, confusion matrix=\n",
      "[[3 0]\n",
      " [0 7]]\n",
      "[ 0.  1.] [ 1.  1.]\n",
      "Area under the curve: 1.0000\n"
     ]
    },
    {
     "data": {
      "image/png": "[encoded data removed]",
      "text/plain": [
       "<matplotlib.figure.Figure at 0x175f6f28>"
      ]
     },
     "metadata": {},
     "output_type": "display_data"
    },
    {
     "name": "stdout",
     "output_type": "stream",
     "text": [
      "fold 7 accuracy=1.0000, precision=1.0000, recall=1.0000, F-measure1.0000, confusion matrix=\n",
      "[[6 0]\n",
      " [0 4]]\n",
      "[ 0.  1.] [ 1.  1.]\n",
      "Area under the curve: 1.0000\n"
     ]
    },
    {
     "data": {
      "image/png": "[encoded data removed]",
      "text/plain": [
       "<matplotlib.figure.Figure at 0x1733c710>"
      ]
     },
     "metadata": {},
     "output_type": "display_data"
    },
    {
     "name": "stdout",
     "output_type": "stream",
     "text": [
      "fold 8 accuracy=1.0000, precision=1.0000, recall=1.0000, F-measure1.0000, confusion matrix=\n",
      "[[6 0]\n",
      " [0 4]]\n",
      "[ 0.  1.] [ 1.  1.]\n",
      "Area under the curve: 1.0000\n"
     ]
    },
    {
     "data": {
      "image/png": "[encoded data removed]",
      "text/plain": [
       "<matplotlib.figure.Figure at 0x177269b0>"
      ]
     },
     "metadata": {},
     "output_type": "display_data"
    },
    {
     "name": "stdout",
     "output_type": "stream",
     "text": [
      "fold 9 accuracy=1.0000, precision=1.0000, recall=1.0000, F-measure1.0000, confusion matrix=\n",
      "[[3 0]\n",
      " [0 7]]\n",
      "[ 0.  1.] [ 1.  1.]\n",
      "Area under the curve: 1.0000\n"
     ]
    },
    {
     "data": {
      "image/png": "[encoded data removed]",
      "text/plain": [
       "<matplotlib.figure.Figure at 0x172d4cc0>"
      ]
     },
     "metadata": {},
     "output_type": "display_data"
    },
    {
     "name": "stdout",
     "output_type": "stream",
     "text": [
      "fold 10 accuracy=1.0000, precision=1.0000, recall=1.0000, F-measure1.0000, confusion matrix=\n",
      "[[4 0]\n",
      " [0 6]]\n",
      "[ 0.  1.] [ 1.  1.]\n",
      "Area under the curve: 1.0000\n"
     ]
    },
    {
     "data": {
      "image/png": "[encoded data removed]",
      "text/plain": [
       "<matplotlib.figure.Figure at 0x170f7080>"
      ]
     },
     "metadata": {},
     "output_type": "display_data"
    },
    {
     "name": "stdout",
     "output_type": "stream",
     "text": [
      "average cross validation accuracy, precision, recall, f1_score =1.0000, 1.0000, 1.0000, 1.0000\n",
      "\n",
      "n Feature , n Class\n",
      "fold 1 accuracy=0.8667, precision=0.8667, recall=0.8667, F-measure0.8667, confusion matrix=\n",
      "[[4 0 0]\n",
      " [0 4 1]\n",
      " [0 1 5]]\n",
      "fold 2 accuracy=1.0000, precision=1.0000, recall=1.0000, F-measure1.0000, confusion matrix=\n",
      "[[4 0 0]\n",
      " [0 6 0]\n",
      " [0 0 5]]\n",
      "fold 3 accuracy=1.0000, precision=1.0000, recall=1.0000, F-measure1.0000, confusion matrix=\n",
      "[[7 0 0]\n",
      " [0 5 0]\n",
      " [0 0 3]]\n",
      "fold 4 accuracy=1.0000, precision=1.0000, recall=1.0000, F-measure1.0000, confusion matrix=\n",
      "[[5 0 0]\n",
      " [0 5 0]\n",
      " [0 0 5]]\n",
      "fold 5 accuracy=1.0000, precision=1.0000, recall=1.0000, F-measure1.0000, confusion matrix=\n",
      "[[2 0 0]\n",
      " [0 8 0]\n",
      " [0 0 5]]\n",
      "fold 6 accuracy=1.0000, precision=1.0000, recall=1.0000, F-measure1.0000, confusion matrix=\n",
      "[[7 0 0]\n",
      " [0 4 0]\n",
      " [0 0 4]]\n",
      "fold 7 accuracy=1.0000, precision=1.0000, recall=1.0000, F-measure1.0000, confusion matrix=\n",
      "[[5 0 0]\n",
      " [0 6 0]\n",
      " [0 0 4]]\n",
      "fold 8 accuracy=0.8667, precision=0.9048, recall=0.8667, F-measure0.8556, confusion matrix=\n",
      "[[6 0 0]\n",
      " [0 2 2]\n",
      " [0 0 5]]\n",
      "fold 9 accuracy=1.0000, precision=1.0000, recall=1.0000, F-measure1.0000, confusion matrix=\n",
      "[[5 0 0]\n",
      " [0 2 0]\n",
      " [0 0 8]]\n",
      "fold 10 accuracy=1.0000, precision=1.0000, recall=1.0000, F-measure1.0000, confusion matrix=\n",
      "[[5 0 0]\n",
      " [0 5 0]\n",
      " [0 0 5]]\n",
      "average cross validation accuracy, precision, recall, f1_score =0.9733, 0.9771, 0.9733, 0.9722\n"
     ]
    }
   ],
   "source": [
    "def do_cross_validation(X, y, ndimension, classarray,n_folds, verbose=False):\n",
    "    \n",
    "    accuracies = []\n",
    "    precisions =[]\n",
    "    recalls=[]\n",
    "    f1_scores=[]\n",
    "    y_p=[]\n",
    "    i=1;\n",
    "    X1, Y1= read_dimension_class(X,y,ndimension,classarray)\n",
    "    cv = KFold(len(Y1), n_folds, shuffle=True, random_state=5)\n",
    "    for train_idx, test_idx in cv:\n",
    "        muu_class = calc_muu(X1[train_idx], Y1[train_idx],classarray)\n",
    "        sigma_class = calc_sigma(X1[train_idx], Y1[train_idx],muu_class,classarray)\n",
    "        priors= prior_probability(Y1[train_idx], classarray)\n",
    "        membership_class = membership(X1[test_idx], sigma_class, muu_class, priors)\n",
    "        for a in membership_class:\n",
    "            max_index, max_value = max(enumerate(a), key=operator.itemgetter(1))\n",
    "            y_p.append(max_index+1)\n",
    "        acc = accuracy_score(Y1[test_idx], y_p)\n",
    "        c_matrix= confusion_matrix(Y1[test_idx], y_p)\n",
    "        \n",
    "        if(len(classarray)<=2):\n",
    "            precision=precision_score(Y1[test_idx], y_p, average=\"binary\")\n",
    "            recall=recall_score(Y1[test_idx], y_p, average=\"binary\")\n",
    "            f_score=f1_score(Y1[test_idx], y_p, average=\"binary\")\n",
    "        elif(len(classarray)>2):\n",
    "            precision=precision_score(Y1[test_idx], y_p, average=\"weighted\")\n",
    "            recall=recall_score(Y1[test_idx], y_p, average=\"weighted\")\n",
    "            f_score=f1_score(Y1[test_idx], y_p, average=\"weighted\")\n",
    "        if(verbose == True):\n",
    "            #if(len(classarray)<=2):\n",
    "            print('fold %d accuracy=%.4f, precision=%.4f, recall=%.4f, F-measure%.4f, confusion matrix=' % (i, acc, precision, recall, f_score));\n",
    "            print c_matrix\n",
    "    \n",
    "        if(len(classarray)==2 and ndimension > 1):\n",
    "            false_positive, true_positive, threshold = roc_curve(Y1[test_idx], y_p, pos_label=2)\n",
    "            print false_positive, true_positive\n",
    "            area=auc( false_positive , true_positive )\n",
    "            print \"Area under the curve: %0.4f\" %area\n",
    "            plt.xlim([0.0, 1.0])\n",
    "            plt.ylim([0.0, 1.5])\n",
    "            plt.plot( false_positive, true_positive)\n",
    "            plt.xlabel('False Positive Rate')\n",
    "            plt.ylabel('True Positive Rate')\n",
    "            plt.show()\n",
    "    \n",
    "            #elif(len(classarray)>2):\n",
    "            #    print('fold %d accuracy=%.4f, %.4f, %.4f, %.4f' % (i, acc, np.mean(precision), np.mean(recall), np.mean(f_score)));\n",
    "        i=i+1;\n",
    "        accuracies.append(acc)\n",
    "        precisions.append(precision)\n",
    "        recalls.append(recall)\n",
    "        f1_scores.append(f_score)\n",
    "        y_p=[]\n",
    "    avg=np.mean(accuracies);\n",
    "    avg_precision=np.mean(precisions)\n",
    "    avg_recall=np.mean(recalls)\n",
    "    avg_f1_score=np.mean(f1_scores)\n",
    "    return avg, avg_precision, avg_recall, avg_f1_score;\n",
    "    \n",
    "print(\"1 Feature , 2 Class\")\n",
    "print('average cross validation accuracy, precision, recall, f1_score =%.4f, %.4f, %.4f, %.4f' %\n",
    "      do_cross_validation(X, Y,1, [1,2], n_folds=10, verbose=True))\n",
    "\n",
    "print(\"\\nn Feature , 2 Class\")\n",
    "print('average cross validation accuracy, precision, recall, f1_score =%.4f, %.4f, %.4f, %.4f' %\n",
    "      do_cross_validation(X, Y,4, [1,2], n_folds=10, verbose=True))\n",
    "\n",
    "print(\"\\nn Feature , n Class\")\n",
    "print('average cross validation accuracy, precision, recall, f1_score =%.4f, %.4f, %.4f, %.4f' %\n",
    "      do_cross_validation(X, Y,4, [1,2,3], n_folds=10, verbose=True))"
   ]
  },
  {
   "cell_type": "code",
   "execution_count": 160,
   "metadata": {
    "collapsed": false
   },
   "outputs": [],
   "source": [
    "def get_data():\n",
    "    \"\"\" Download and unzip data.\"\"\"\n",
    "    urlretrieve('https://www.dropbox.com/s/xk4glpk61q3qrg2/imdb.tgz?dl=1', 'imdb.tgz')\n",
    "    tar = tarfile.open(\"imdb.tgz\")\n",
    "    tar.extractall()\n",
    "    tar.close()\n",
    "    \n",
    "get_data()"
   ]
  },
  {
   "cell_type": "code",
   "execution_count": 12,
   "metadata": {
    "collapsed": true
   },
   "outputs": [],
   "source": [
    "path = 'data'"
   ]
  },
  {
   "cell_type": "code",
   "execution_count": 13,
   "metadata": {
    "collapsed": true
   },
   "outputs": [],
   "source": [
    "def get_files(path):\n",
    "    text_files = [path + \"\\\\\" + f for f in os.listdir(path) if f.endswith('.txt')]\n",
    "    sorted(text_files);\n",
    "    return text_files;"
   ]
  },
  {
   "cell_type": "code",
   "execution_count": 14,
   "metadata": {
    "collapsed": false
   },
   "outputs": [],
   "source": [
    "pos_train_files = get_files(path + os.sep + 'train' + os.sep + 'pos')\n",
    "neg_train_files = get_files(path + os.sep + 'train' + os.sep + 'neg')\n",
    "all_train_files = pos_train_files + neg_train_files"
   ]
  },
  {
   "cell_type": "code",
   "execution_count": 15,
   "metadata": {
    "collapsed": true
   },
   "outputs": [],
   "source": [
    "def get_true_labels(file_names):\n",
    "    y=[];\n",
    "    for f in file_names:\n",
    "        if(\"pos\" in f):\n",
    "            y.append(1);\n",
    "        elif(\"neg\" in f):\n",
    "            y.append(0);\n",
    "    return np.array(y);\n",
    "\n",
    "labels = get_true_labels(all_train_files)"
   ]
  },
  {
   "cell_type": "code",
   "execution_count": 16,
   "metadata": {
    "collapsed": true
   },
   "outputs": [],
   "source": [
    "def tokenize_with_punct(text):\n",
    "    result='';\n",
    "    if not text:\n",
    "        return []\n",
    "    string=text.lower();\n",
    "    tokens = []\n",
    "    tokens = re.findall(r\"[\\w]+|[^\\s\\w]\", string, re.U);\n",
    "    result=' '.join(tokens)\n",
    "    tok=re.findall(r\"[\\w]+|[^\\s\\w]\", result);\n",
    "    return tok;"
   ]
  },
  {
   "cell_type": "code",
   "execution_count": 17,
   "metadata": {
    "collapsed": true
   },
   "outputs": [],
   "source": [
    "def tokenize_with_not(text):\n",
    "    i=0;\n",
    "    tokens = tokenize_with_punct(text);\n",
    "    for t in tokens:\n",
    "        if(t==\"not\"):\n",
    "            if(i+1<=len(tokens)-1):\n",
    "                tokens[i+1] = '%s_%s' % (t, tokens[i+1]);\n",
    "            if(i+2<=len(tokens)-1):\n",
    "                tokens[i+2] = '%s_%s' % (t, tokens[i+2]);\n",
    "        i=i+1;\n",
    "    return tokens;"
   ]
  },
  {
   "cell_type": "code",
   "execution_count": 18,
   "metadata": {
    "collapsed": false
   },
   "outputs": [],
   "source": [
    "def do_vectorize(filenames, tokenizer_fn=tokenize_with_not, min_df=2,\n",
    "                 max_df=.7, binary=True, ngram_range=(1,1)):\n",
    "    vec = CountVectorizer(input='filename', encoding='utf-8', tokenizer=tokenize_with_not,ngram_range=ngram_range, \n",
    "                   analyzer=u'word', max_df=max_df, min_df=min_df,binary=binary, dtype=int);\n",
    "    vect=vec.fit_transform(filenames)\n",
    "    return(vect, vec);\n",
    "\n",
    "matrix, vec = do_vectorize(all_train_files, binary=False)"
   ]
  },
  {
   "cell_type": "code",
   "execution_count": 19,
   "metadata": {
    "collapsed": true
   },
   "outputs": [],
   "source": [
    "pos_test_files = get_files(path + os.sep + 'test' + os.sep + 'pos')\n",
    "neg_test_files = get_files(path + os.sep + 'test' + os.sep + 'neg')\n",
    "all_test_files = pos_test_files + neg_test_files\n",
    "X_test = vec.transform(all_test_files)\n",
    "y_test = np.array([1] * len(pos_test_files) + [0] * len(neg_test_files))"
   ]
  },
  {
   "cell_type": "code",
   "execution_count": 20,
   "metadata": {
    "collapsed": true
   },
   "outputs": [],
   "source": [
    "def get_alpha(x, y):\n",
    "    m_class_pos=0;\n",
    "    m_class_neg=0;\n",
    "    alpha_class=[];\n",
    "    alpha_class_pos=[];\n",
    "    alpha_class_neg=[];\n",
    "    alpha_sum_pos=0;\n",
    "    alpha_sum_neg=0;\n",
    "    for a in y:\n",
    "        if a==1:\n",
    "            m_class_pos=m_class_pos+1;\n",
    "        else:\n",
    "            m_class_neg=m_class_neg+1;\n",
    "    for x_col in range(x.shape[1]):\n",
    "        for x_row in range(x.shape[0]):\n",
    "            if x_col in x[x_row].indices:\n",
    "                if(y[x_row]==1):\n",
    "                    alpha_sum_pos=alpha_sum_pos+1;\n",
    "                else:\n",
    "                    alpha_sum_neg=alpha_sum_neg+1;\n",
    "        alpha_class_pos.append( (1.*alpha_sum_pos+1) / (m_class_pos+2) );\n",
    "        alpha_class_neg.append( (1.*alpha_sum_neg+1) / (m_class_neg+2) );\n",
    "        alpha_sum_pos=0;\n",
    "        alpha_sum_neg=0;\n",
    "    alpha_class.append(alpha_class_pos);\n",
    "    alpha_class.append(alpha_class_neg)\n",
    "    return alpha_class;"
   ]
  },
  {
   "cell_type": "code",
   "execution_count": 21,
   "metadata": {
    "collapsed": true
   },
   "outputs": [],
   "source": [
    "def get_alpha_binomial(x, y):\n",
    "    m_class_pos=0;\n",
    "    m_class_neg=0;\n",
    "    alpha_class=[];\n",
    "    alpha_class_pos=[];\n",
    "    alpha_class_neg=[];\n",
    "    alpha_sum_pos=0;\n",
    "    alpha_sum_neg=0;\n",
    "    for a in y:\n",
    "        if a==1:\n",
    "            m_class_pos=m_class_pos+1;\n",
    "        else:\n",
    "            m_class_neg=m_class_neg+1;\n",
    "    for x_col in range(x.shape[1]):\n",
    "        for x_row in range(x.shape[0]):\n",
    "            if x_col in x[x_row].indices:\n",
    "                if(y[x_row]==1):\n",
    "                    alpha_sum_pos=alpha_sum_pos+x[x_row, x_col];\n",
    "                else:\n",
    "                    alpha_sum_neg=alpha_sum_neg+x[x_row, x_col];\n",
    "        alpha_class_pos.append( (1.* alpha_sum_pos+1) / (m_class_pos+2));\n",
    "        alpha_class_neg.append( (1.* alpha_sum_neg+1) / (m_class_neg+2));\n",
    "        alpha_sum_pos=0;\n",
    "        alpha_sum_neg=0;\n",
    "    alpha_class.append(alpha_class_pos);\n",
    "    alpha_class.append(alpha_class_neg)\n",
    "    return alpha_class;"
   ]
  },
  {
   "cell_type": "code",
   "execution_count": 22,
   "metadata": {
    "collapsed": true
   },
   "outputs": [],
   "source": [
    "def get_priors(y):\n",
    "    prior_class=[];\n",
    "    m_class_pos=0;\n",
    "    m_class_neg=0;\n",
    "    for a in y:\n",
    "        if a==1:\n",
    "            m_class_pos=m_class_pos+1;\n",
    "        else:\n",
    "            m_class_neg=m_class_neg+1;\n",
    "    prior_class.append(1.* m_class_pos / y.shape[0]);\n",
    "    prior_class.append(1.* m_class_neg / y.shape[0]);\n",
    "    return prior_class;"
   ]
  },
  {
   "cell_type": "code",
   "execution_count": 23,
   "metadata": {
    "collapsed": true
   },
   "outputs": [],
   "source": [
    "def membership_nb_B(x, alpha_class, prior_class):\n",
    "    membership_pos=0;\n",
    "    membership_neg=0;\n",
    "    membership=[];\n",
    "    for i in range(x.shape[0]):\n",
    "        for a in x[i].indices:\n",
    "            if(alpha_class[0][a]>0):\n",
    "                membership_pos=membership_pos+math.log(alpha_class[0][a]);\n",
    "            if(alpha_class[1][a]>0):\n",
    "                membership_neg=membership_neg+math.log(alpha_class[1][a]);\n",
    "        membership_pos=membership_pos*prior_class[0];\n",
    "        membership_neg=membership_neg*prior_class[1];\n",
    "        membership.append([membership_pos, membership_neg]);\n",
    "        membership_pos=0;\n",
    "        membership_neg=0;\n",
    "    return membership;        "
   ]
  },
  {
   "cell_type": "code",
   "execution_count": 34,
   "metadata": {
    "collapsed": false
   },
   "outputs": [],
   "source": [
    "alpha_class = get_alpha(matrix, labels)"
   ]
  },
  {
   "cell_type": "code",
   "execution_count": 54,
   "metadata": {
    "collapsed": false
   },
   "outputs": [],
   "source": [
    "prior_class= get_priors(labels)"
   ]
  },
  {
   "cell_type": "code",
   "execution_count": 139,
   "metadata": {
    "collapsed": false
   },
   "outputs": [
    {
     "name": "stdout",
     "output_type": "stream",
     "text": [
      "Bernoulli Feature\n",
      "fold 1 accuracy=0.7500, precision=0.9000, recall=0.5000, F-measure0.6429, confusion matrix=\n",
      "[[21  1]\n",
      " [ 9  9]]\n",
      "fold 2 accuracy=0.8750, precision=0.9375, recall=0.7895, F-measure0.8571, confusion matrix=\n",
      "[[20  1]\n",
      " [ 4 15]]\n",
      "fold 3 accuracy=0.7250, precision=1.0000, recall=0.3889, F-measure0.5600, confusion matrix=\n",
      "[[22  0]\n",
      " [11  7]]\n",
      "fold 4 accuracy=0.7750, precision=0.7273, recall=1.0000, F-measure0.8421, confusion matrix=\n",
      "[[ 7  9]\n",
      " [ 0 24]]\n",
      "fold 5 accuracy=0.7500, precision=0.7500, recall=0.7500, F-measure0.7500, confusion matrix=\n",
      "[[15  5]\n",
      " [ 5 15]]\n",
      "fold 6 accuracy=0.7750, precision=0.9167, recall=0.5789, F-measure0.7097, confusion matrix=\n",
      "[[20  1]\n",
      " [ 8 11]]\n",
      "fold 7 accuracy=0.7500, precision=0.6875, recall=1.0000, F-measure0.8148, confusion matrix=\n",
      "[[ 8 10]\n",
      " [ 0 22]]\n",
      "fold 8 accuracy=0.6500, precision=1.0000, recall=0.1765, F-measure0.3000, confusion matrix=\n",
      "[[23  0]\n",
      " [14  3]]\n",
      "fold 9 accuracy=0.7500, precision=1.0000, recall=0.4737, F-measure0.6429, confusion matrix=\n",
      "[[21  0]\n",
      " [10  9]]\n",
      "fold 10 accuracy=0.6500, precision=0.6316, recall=1.0000, F-measure0.7742, confusion matrix=\n",
      "[[ 2 14]\n",
      " [ 0 24]]\n",
      "average cross validation accuracy, precision, recall, f1_score =0.7450, 0.8551, 0.6657, 0.6894\n",
      "overall accuracy, precision, recall, f1_score, confusion matrix =0.7750, 0.7957, 0.7400, 0.7668\n",
      "[[162  38]\n",
      " [ 52 148]]\n",
      "Area under the PR curve: 0.8328\n"
     ]
    },
    {
     "data": {
      "image/png": "[encoded data removed]",
      "text/plain": [
       "<matplotlib.figure.Figure at 0x17560668>"
      ]
     },
     "metadata": {},
     "output_type": "display_data"
    },
    {
     "name": "stdout",
     "output_type": "stream",
     "text": [
      "Area under the ROC curve: 0.7750\n"
     ]
    },
    {
     "data": {
      "image/png": "[encoded data removed]",
      "text/plain": [
       "<matplotlib.figure.Figure at 0x171b9a58>"
      ]
     },
     "metadata": {},
     "output_type": "display_data"
    },
    {
     "name": "stdout",
     "output_type": "stream",
     "text": [
      "Binomial Feature\n",
      "fold 1 accuracy=0.7500, precision=0.7857, recall=0.6111, F-measure0.6875, confusion matrix=\n",
      "[[19  3]\n",
      " [ 7 11]]\n",
      "fold 2 accuracy=0.9000, precision=0.8947, recall=0.8947, F-measure0.8947, confusion matrix=\n",
      "[[19  2]\n",
      " [ 2 17]]\n",
      "fold 3 accuracy=0.7000, precision=0.8750, recall=0.3889, F-measure0.5385, confusion matrix=\n",
      "[[21  1]\n",
      " [11  7]]\n",
      "fold 4 accuracy=0.7500, precision=0.7188, recall=0.9583, F-measure0.8214, confusion matrix=\n",
      "[[ 7  9]\n",
      " [ 1 23]]\n",
      "fold 5 accuracy=0.7500, precision=0.6786, recall=0.9500, F-measure0.7917, confusion matrix=\n",
      "[[11  9]\n",
      " [ 1 19]]\n",
      "fold 6 accuracy=0.7750, precision=0.7778, recall=0.7368, F-measure0.7568, confusion matrix=\n",
      "[[17  4]\n",
      " [ 5 14]]\n",
      "fold 7 accuracy=0.7500, precision=0.6875, recall=1.0000, F-measure0.8148, confusion matrix=\n",
      "[[ 8 10]\n",
      " [ 0 22]]\n",
      "fold 8 accuracy=0.7750, precision=0.8333, recall=0.5882, F-measure0.6897, confusion matrix=\n",
      "[[21  2]\n",
      " [ 7 10]]\n",
      "fold 9 accuracy=0.7250, precision=0.7857, recall=0.5789, F-measure0.6667, confusion matrix=\n",
      "[[18  3]\n",
      " [ 8 11]]\n",
      "fold 10 accuracy=0.6500, precision=0.6316, recall=1.0000, F-measure0.7742, confusion matrix=\n",
      "[[ 2 14]\n",
      " [ 0 24]]\n",
      "average cross validation accuracy, precision, recall, f1_score =0.7525, 0.7669, 0.7707, 0.7436\n",
      "overall accuracy, precision, recall, f1_score, confusion matrix =0.7700, 0.7523, 0.8050, 0.7778\n",
      "[[147  53]\n",
      " [ 39 161]]\n",
      "Area under the PR curve: 0.8274\n"
     ]
    },
    {
     "data": {
      "image/png": "[encoded data removed]",
      "text/plain": [
       "<matplotlib.figure.Figure at 0x18b1a208>"
      ]
     },
     "metadata": {},
     "output_type": "display_data"
    },
    {
     "name": "stdout",
     "output_type": "stream",
     "text": [
      "Area under the ROC curve: 0.7700\n"
     ]
    },
    {
     "data": {
      "image/png": "[encoded data removed]",
      "text/plain": [
       "<matplotlib.figure.Figure at 0x1713e470>"
      ]
     },
     "metadata": {},
     "output_type": "display_data"
    }
   ],
   "source": [
    "def do_cross_validation_NB(matrix, labels, X_test, y_test, feature, n_folds=10):\n",
    "    accuracies = []\n",
    "    precisions =[]\n",
    "    recalls=[]\n",
    "    f1_scores=[]\n",
    "    y_p=[]\n",
    "    fold_number=1;\n",
    "    cv = KFold(len(labels), n_folds, shuffle=True, random_state=5)\n",
    "    for train_idx, test_idx in cv:\n",
    "        if(feature=='bernoulli'):\n",
    "            alpha_class = get_alpha(matrix[train_idx], labels[train_idx])\n",
    "        elif(feature=='binomial'):\n",
    "            alpha_class = get_alpha_binomial(matrix[train_idx], labels[train_idx])\n",
    "        prior_class= get_priors(labels[train_idx])\n",
    "        membership=membership_nb_B(matrix[test_idx], alpha_class, prior_class)\n",
    "        pos=0;\n",
    "        neg=0;\n",
    "        y_predicted=[];\n",
    "        for i in range(matrix[test_idx].shape[0]):\n",
    "            if(membership[i][0]>membership[i][1]):\n",
    "                y_predicted.append(1);\n",
    "            elif(membership[i][0]<membership[i][1]):\n",
    "                y_predicted.append(0);\n",
    "        acc = accuracy_score(labels[test_idx], y_predicted)\n",
    "        c_matrix= confusion_matrix(labels[test_idx], y_predicted)\n",
    "        precision=precision_score(labels[test_idx], y_predicted, average=\"binary\")\n",
    "        recall=recall_score(labels[test_idx], y_predicted, average=\"binary\")\n",
    "        f_score=f1_score(labels[test_idx], y_predicted, average=\"binary\")\n",
    "        print('fold %d accuracy=%.4f, precision=%.4f, recall=%.4f, F-measure%.4f, confusion matrix=' % (fold_number, acc, precision, recall, f_score));\n",
    "        print c_matrix\n",
    "        accuracies.append(acc)\n",
    "        precisions.append(precision)\n",
    "        recalls.append(recall)\n",
    "        f1_scores.append(f_score)\n",
    "        fold_number=fold_number+1;\n",
    "    avg=np.mean(accuracies);\n",
    "    avg_precision=np.mean(precisions)\n",
    "    avg_recall=np.mean(recalls)\n",
    "    avg_f1_score=np.mean(f1_scores)\n",
    "    if(feature=='bernoulli'):\n",
    "        alpha_class = get_alpha(matrix, labels)\n",
    "    elif(feature=='binomial'):\n",
    "        alpha_class = get_alpha_binomial(matrix, labels)\n",
    "    prior_class= get_priors(labels)\n",
    "    membership=membership_nb_B(X_test, alpha_class, prior_class)\n",
    "    pos=0;\n",
    "    neg=0;\n",
    "    y_predicted=[];\n",
    "    for i in range(X_test.shape[0]):\n",
    "        if(membership[i][0]>membership[i][1]):\n",
    "            y_predicted.append(1);\n",
    "        elif(membership[i][0]<membership[i][1]):\n",
    "            y_predicted.append(0);\n",
    "    acc1 = accuracy_score(y_test, y_predicted)\n",
    "    c_matrix1= confusion_matrix(y_test, y_predicted)\n",
    "    precision1=precision_score(y_test, y_predicted, average=\"binary\")\n",
    "    recall1=recall_score(y_test, y_predicted, average=\"binary\")\n",
    "    f_score1=f1_score(y_test, y_predicted, average=\"binary\")\n",
    "    return avg, avg_precision, avg_recall, avg_f1_score, acc1, c_matrix1, precision1, recall1, f_score1, y_predicted;\n",
    "\n",
    "matrix, vec = do_vectorize(all_train_files, binary=True)\n",
    "print(\"Bernoulli Feature\")\n",
    "accuracy, precision, recall, f_1_score, acc1, c_matrix1, precision1, recall1, f_score1, y_predicted = do_cross_validation_NB(matrix, labels, X_test, y_test,'bernoulli', n_folds=10)\n",
    "\n",
    "print 'average cross validation accuracy, precision, recall, f1_score =%.4f, %.4f, %.4f, %.4f' %(accuracy, precision, recall, f_1_score )\n",
    "print 'overall accuracy, precision, recall, f1_score, confusion matrix =%.4f, %.4f, %.4f, %.4f' %(acc1, precision1, recall1, f_score1)\n",
    "print c_matrix1\n",
    "precision_plot, recall_plot, threshold = precision_recall_curve(y_test, y_predicted)\n",
    "area=average_precision_score(y_test, y_predicted)\n",
    "print \"Area under the PR curve: %0.4f\" %area\n",
    "plt.plot(recall_plot, precision_plot)\n",
    "plt.xlim([0.0, 1.0])\n",
    "plt.ylim([0.0, 1.0])\n",
    "plt.xlabel('Recall')\n",
    "plt.ylabel('Precision')\n",
    "plt.show()\n",
    "\n",
    "fpr, tpr, threshold = roc_curve(y_test, y_predicted)\n",
    "area=auc(fpr, tpr)\n",
    "print \"Area under the ROC curve: %0.4f\" %area\n",
    "plt.plot(fpr, tpr)\n",
    "plt.xlim([0.0, 1.0])\n",
    "plt.ylim([0.0, 1.0])\n",
    "plt.xlabel('False Positive Rate')\n",
    "plt.ylabel('True Positive Rate')\n",
    "plt.show()\n",
    "\n",
    "matrix, vec = do_vectorize(all_train_files, binary=False)\n",
    "print(\"Binomial Feature\")\n",
    "accuracy, precision, recall, f_1_score, acc1, c_matrix1, precision1, recall1, f_score1, y_predicted = do_cross_validation_NB(matrix, labels, X_test, y_test,'binomial', n_folds=10)\n",
    "\n",
    "print 'average cross validation accuracy, precision, recall, f1_score =%.4f, %.4f, %.4f, %.4f' % (accuracy, precision, recall, f_1_score )\n",
    "print 'overall accuracy, precision, recall, f1_score, confusion matrix =%.4f, %.4f, %.4f, %.4f' % (acc1, precision1, recall1, f_score1)\n",
    "print c_matrix1\n",
    "precision_plot, recall_plot, threshold = precision_recall_curve(y_test, y_predicted)\n",
    "area=average_precision_score(y_test, y_predicted)\n",
    "print \"Area under the PR curve: %0.4f\" %area\n",
    "plt.plot(recall_plot, precision_plot)\n",
    "plt.xlim([0.0, 1.0])\n",
    "plt.ylim([0.0, 1.0])\n",
    "plt.xlabel('Recall')\n",
    "plt.ylabel('Precision')\n",
    "plt.show()\n",
    "\n",
    "fpr, tpr, threshold = roc_curve(y_test, y_predicted)\n",
    "area=auc(fpr, tpr)\n",
    "print \"Area under the ROC curve: %0.4f\" %area\n",
    "plt.plot(fpr, tpr)\n",
    "plt.xlim([0.0, 1.0])\n",
    "plt.ylim([0.0, 1.0])\n",
    "plt.xlabel('False Positive Rate')\n",
    "plt.ylabel('True Positive Rate')\n",
    "plt.show()\n",
    "        \n"
   ]
  },
  {
   "cell_type": "markdown",
   "metadata": {},
   "source": [
    "#Built in Model"
   ]
  },
  {
   "cell_type": "code",
   "execution_count": 32,
   "metadata": {
    "collapsed": false
   },
   "outputs": [
    {
     "data": {
      "text/plain": [
       "0.77500000000000002"
      ]
     },
     "execution_count": 32,
     "metadata": {},
     "output_type": "execute_result"
    }
   ],
   "source": [
    "from sklearn.naive_bayes import BernoulliNB\n",
    "clf = BernoulliNB()\n",
    "clf.fit(matrix, labels)\n",
    "y_predict= clf.predict(X_test)\n",
    "accuracy_score(y_test, y_predict)"
   ]
  },
  {
   "cell_type": "code",
   "execution_count": 67,
   "metadata": {
    "collapsed": false
   },
   "outputs": [
    {
     "data": {
      "text/plain": [
       "0.77500000000000002"
      ]
     },
     "execution_count": 67,
     "metadata": {},
     "output_type": "execute_result"
    }
   ],
   "source": [
    "from sklearn.naive_bayes import MultinomialNB\n",
    "clf = MultinomialNB()\n",
    "clf.fit(matrix, labels)\n",
    "y_predict= clf.predict(X_test)\n",
    "accuracy_score(y_test, y_predict)"
   ]
  }
 ],
 "metadata": {
  "kernelspec": {
   "display_name": "Python 2",
   "language": "python",
   "name": "python2"
  },
  "language_info": {
   "codemirror_mode": {
    "name": "ipython",
    "version": 2
   },
   "file_extension": ".py",
   "mimetype": "text/x-python",
   "name": "python",
   "nbconvert_exporter": "python",
   "pygments_lexer": "ipython2",
   "version": "2.7.10"
  }
 },
 "nbformat": 4,
 "nbformat_minor": 0
}
