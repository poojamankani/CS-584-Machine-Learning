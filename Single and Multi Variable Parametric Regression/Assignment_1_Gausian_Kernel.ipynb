{
 "cells": [
  {
   "cell_type": "code",
   "execution_count": 38,
   "metadata": {
    "collapsed": true
   },
   "outputs": [],
   "source": [
    "import numpy as np\n",
    "import math\n",
    "from sklearn.cross_validation import KFold\n",
    "from sklearn.preprocessing import PolynomialFeatures\n",
    "from sklearn.linear_model import LinearRegression\n",
    "import matplotlib.pyplot as plt\n",
    "%matplotlib inline\n",
    "import timeit"
   ]
  },
  {
   "cell_type": "code",
   "execution_count": 41,
   "metadata": {
    "collapsed": false
   },
   "outputs": [],
   "source": [
    "def read_input(filename):\n",
    "    input_data=[];\n",
    "    f=open(filename);\n",
    "    for line in f:\n",
    "        input_data.append(line.split());\n",
    "    return input_data;\n",
    "\n",
    "def create_feature_matrix(input_data):\n",
    "    x_list=[a[0:len(input_data[0])-1] for a in input_data];\n",
    "    x=np.matrix(x_list);\n",
    "    #x=np.transpose(x)\n",
    "    return x.astype(np.float);\n",
    "\n",
    "def create_y_matrix(input_data):\n",
    "    y_list=[a[len(input_data[0])-1] for a in input_data];\n",
    "    y=np.matrix(y_list);\n",
    "    y=np.transpose(y)\n",
    "    return y.astype(np.float);\n",
    "\n",
    "def mean_square_error(predicted_y, training_data_y):\n",
    "    difference_y_num=np.empty([predicted_y.shape[0], predicted_y.shape[1]]);\n",
    "    for i in range(predicted_y.shape[0]):\n",
    "        for j in range(predicted_y.shape[1]):\n",
    "            difference_y_num[i][j]=predicted_y[i][j]-training_data_y[i][j];\n",
    "            difference_y_num[i][j]=(difference_y_num[i][j]*difference_y_num[i][j])\n",
    "    difference_y=difference_y_num.sum()\n",
    "    MSE=(difference_y)/len(predicted_y);\n",
    "    return MSE;\n",
    "\n",
    "def create_gram_matrix(train_x, sigma):\n",
    "    gram_matrix=np.empty([train_x.shape[0], train_x.shape[0]]);\n",
    "    for i in range(train_x.shape[0]):\n",
    "        for j in range(train_x.shape[0]):\n",
    "            gram_matrix[i][j]=math.exp(-np.linalg.norm(train_x[i]-train_x[j])) /(2*(sigma**2))\n",
    "    #print gram_matrix\n",
    "    return gram_matrix;\n",
    "            \n",
    "def get_alpha(gram_matrix, train_y):\n",
    "    alpha=np.dot(np.linalg.inv(gram_matrix), train_y);\n",
    "    #print alpha\n",
    "    return alpha;\n",
    "\n",
    "def predict(alpha, train_x, test_x, sigma):\n",
    "    predict_y=np.empty([test_x.shape[0], 1]);\n",
    "    alpha_t=np.transpose(alpha);\n",
    "    for i in range(test_x.shape[0]):\n",
    "        predicted_y=0;\n",
    "        for j in range(train_x.shape[0]):\n",
    "            predicted_y += alpha[j]*(math.exp(-np.linalg.norm(test_x[i]-train_x[j]))/(2*(sigma**2)));\n",
    "        predict_y[i]=predicted_y;\n",
    "    \n",
    "    return predict_y;\n",
    "\n",
    "def do_cross_validation(data_x, data_y, sigma,  n_folds=10):\n",
    "    cv = KFold(len(data_y), n_folds)\n",
    "    error_mean = []\n",
    "    i=0;\n",
    "    for train_idx, test_idx in cv:\n",
    "        gram_matrix=create_gram_matrix(data_x[train_idx], sigma)\n",
    "        alpha=get_alpha(gram_matrix, data_y[train_idx])\n",
    "        predicted_y=predict(alpha, data_x[train_idx], data_x[test_idx], sigma)\n",
    "        #print predicted_y\n",
    "        #print data_y[test_idx]\n",
    "        MSE=mean_square_error(predicted_y, data_y[test_idx]);\n",
    "        print \"(Custom Model) For fold: %d RMS = %f\" %(i, MSE)\n",
    "        error_mean.append(MSE);\n",
    "        i=i+1;\n",
    "    avg_custom=np.mean(error_mean);\n",
    "    return avg_custom;\n",
    "\n",
    "def run_gaussian_kernel(filename, sigma, fold):\n",
    "    input_data=read_input(\"mvar-set1.dat\")\n",
    "    data_x=create_feature_matrix(input_data)\n",
    "    data_y=create_y_matrix(input_data)\n",
    "    start_time = timeit.default_timer()\n",
    "    avg_custom=do_cross_validation(data_x, data_y, 1, 10)\n",
    "    print \"The total time taken by Gaussian Kernel is: %.15f\" %(timeit.default_timer() - start_time)\n",
    "    print \"(Custom Model) Average MSE: %f\" %(avg_custom)"
   ]
  },
  {
   "cell_type": "code",
   "execution_count": null,
   "metadata": {
    "collapsed": false
   },
   "outputs": [],
   "source": [
    "run_gaussian_kernel(\"mvar-set1.dat\", 1, 10)"
   ]
  },
  {
   "cell_type": "code",
   "execution_count": null,
   "metadata": {
    "collapsed": true
   },
   "outputs": [],
   "source": [
    "run_gaussian_kernel(\"mvar-set1.dat\", 0.5, 10)"
   ]
  },
  {
   "cell_type": "code",
   "execution_count": null,
   "metadata": {
    "collapsed": true
   },
   "outputs": [],
   "source": [
    "run_gaussian_kernel(\"mvar-set1.dat\", 2, 10)"
   ]
  }
 ],
 "metadata": {
  "kernelspec": {
   "display_name": "Python 2",
   "language": "python",
   "name": "python2"
  },
  "language_info": {
   "codemirror_mode": {
    "name": "ipython",
    "version": 2
   },
   "file_extension": ".py",
   "mimetype": "text/x-python",
   "name": "python",
   "nbconvert_exporter": "python",
   "pygments_lexer": "ipython2",
   "version": "2.7.10"
  }
 },
 "nbformat": 4,
 "nbformat_minor": 0
}
